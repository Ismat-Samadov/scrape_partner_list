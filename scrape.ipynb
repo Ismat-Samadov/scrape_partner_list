{
 "cells": [
  {
   "cell_type": "code",
   "execution_count": 23,
   "id": "0d2eb369",
   "metadata": {},
   "outputs": [
    {
     "name": "stdout",
     "output_type": "stream",
     "text": [
      "Setup Complete\n"
     ]
    }
   ],
   "source": [
    "from selenium import webdriver\n",
    "import pandas as pd\n",
    "import pandas as pd\n",
    "import numpy as np\n",
    "from bs4 import BeautifulSoup\n",
    "import requests\n",
    "import re \n",
    "from matplotlib import pyplot as plt\n",
    "import seaborn as sns\n",
    "import time\n",
    "import urllib3\n",
    "pd.plotting.register_matplotlib_converters()\n",
    "from warnings import filterwarnings\n",
    "filterwarnings('ignore')\n",
    "# %matplotlib inline\n",
    "print(\"Setup Complete\")"
   ]
  },
  {
   "cell_type": "code",
   "execution_count": 24,
   "id": "e6d878ce",
   "metadata": {},
   "outputs": [],
   "source": [
    "url = 'https://ipoteka.kapitalbank.az/partner/list'\n",
    "page = requests.get(url)\n",
    "html = BeautifulSoup(page.content, 'html.parser')\n",
    "partners = html.find_all('div', class_ = 'partner-card__list-item__info')"
   ]
  },
  {
   "cell_type": "code",
   "execution_count": 38,
   "id": "8dc83eca",
   "metadata": {},
   "outputs": [],
   "source": [
    "http = urllib3.PoolManager()\n",
    "l = http.request('GET',f'https://ipoteka.kapitalbank.az/partner/list')\n",
    "soup_1=BeautifulSoup(l.data, 'html.parser')\n",
    "links_1 = soup_1.findAll('div', class_='partner-card__list-item__info')"
   ]
  },
  {
   "cell_type": "code",
   "execution_count": null,
   "id": "06a0ab5f",
   "metadata": {},
   "outputs": [],
   "source": []
  },
  {
   "cell_type": "code",
   "execution_count": null,
   "id": "d737fe1a",
   "metadata": {},
   "outputs": [],
   "source": []
  },
  {
   "cell_type": "code",
   "execution_count": null,
   "id": "cba70f65",
   "metadata": {},
   "outputs": [],
   "source": []
  },
  {
   "cell_type": "code",
   "execution_count": null,
   "id": "1f994625",
   "metadata": {},
   "outputs": [],
   "source": []
  },
  {
   "cell_type": "code",
   "execution_count": null,
   "id": "26f02013",
   "metadata": {},
   "outputs": [],
   "source": []
  },
  {
   "cell_type": "code",
   "execution_count": null,
   "id": "f76c158a",
   "metadata": {},
   "outputs": [],
   "source": []
  }
 ],
 "metadata": {
  "kernelspec": {
   "display_name": "Python 3 (ipykernel)",
   "language": "python",
   "name": "python3"
  },
  "language_info": {
   "codemirror_mode": {
    "name": "ipython",
    "version": 3
   },
   "file_extension": ".py",
   "mimetype": "text/x-python",
   "name": "python",
   "nbconvert_exporter": "python",
   "pygments_lexer": "ipython3",
   "version": "3.9.7"
  }
 },
 "nbformat": 4,
 "nbformat_minor": 5
}
